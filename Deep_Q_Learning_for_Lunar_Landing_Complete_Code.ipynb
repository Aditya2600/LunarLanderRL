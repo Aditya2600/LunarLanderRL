{
  "cells": [
    {
      "cell_type": "markdown",
      "metadata": {
        "id": "view-in-github",
        "colab_type": "text"
      },
      "source": [
        "<a href=\"https://colab.research.google.com/github/Aditya2600/LunarLanderRL/blob/main/Deep_Q_Learning_for_Lunar_Landing_Complete_Code.ipynb\" target=\"_parent\"><img src=\"https://colab.research.google.com/assets/colab-badge.svg\" alt=\"Open In Colab\"/></a>"
      ]
    },
    {
      "cell_type": "markdown",
      "metadata": {
        "id": "LbZcI9ZXHl3a"
      },
      "source": [
        "# Deep Q-Learning for Lunar Landing"
      ]
    },
    {
      "cell_type": "markdown",
      "metadata": {
        "id": "E8yPRjteXgPb"
      },
      "source": [
        "## Part 0 - Installing the required packages and importing the libraries"
      ]
    },
    {
      "cell_type": "markdown",
      "metadata": {
        "id": "slEm5teGWjWU"
      },
      "source": [
        "### Installing Gymnasium"
      ]
    },
    {
      "cell_type": "code",
      "execution_count": 2,
      "metadata": {
        "id": "dbnq3XpoKa_7",
        "colab": {
          "base_uri": "https://localhost:8080/"
        },
        "outputId": "2797ed64-264c-43b6-be33-0d57721e50ff"
      },
      "outputs": [
        {
          "output_type": "stream",
          "name": "stdout",
          "text": [
            "Collecting gymnasium\n",
            "  Downloading gymnasium-1.0.0-py3-none-any.whl.metadata (9.5 kB)\n",
            "Requirement already satisfied: numpy>=1.21.0 in /usr/local/lib/python3.10/dist-packages (from gymnasium) (1.26.4)\n",
            "Requirement already satisfied: cloudpickle>=1.2.0 in /usr/local/lib/python3.10/dist-packages (from gymnasium) (3.1.0)\n",
            "Requirement already satisfied: typing-extensions>=4.3.0 in /usr/local/lib/python3.10/dist-packages (from gymnasium) (4.12.2)\n",
            "Collecting farama-notifications>=0.0.1 (from gymnasium)\n",
            "  Downloading Farama_Notifications-0.0.4-py3-none-any.whl.metadata (558 bytes)\n",
            "Downloading gymnasium-1.0.0-py3-none-any.whl (958 kB)\n",
            "\u001b[2K   \u001b[90m━━━━━━━━━━━━━━━━━━━━━━━━━━━━━━━━━━━━━━━━\u001b[0m \u001b[32m958.1/958.1 kB\u001b[0m \u001b[31m7.3 MB/s\u001b[0m eta \u001b[36m0:00:00\u001b[0m\n",
            "\u001b[?25hDownloading Farama_Notifications-0.0.4-py3-none-any.whl (2.5 kB)\n",
            "Installing collected packages: farama-notifications, gymnasium\n",
            "Successfully installed farama-notifications-0.0.4 gymnasium-1.0.0\n",
            "Requirement already satisfied: gymnasium[accept-rom-license,atari] in /usr/local/lib/python3.10/dist-packages (1.0.0)\n",
            "\u001b[33mWARNING: gymnasium 1.0.0 does not provide the extra 'accept-rom-license'\u001b[0m\u001b[33m\n",
            "\u001b[0mRequirement already satisfied: numpy>=1.21.0 in /usr/local/lib/python3.10/dist-packages (from gymnasium[accept-rom-license,atari]) (1.26.4)\n",
            "Requirement already satisfied: cloudpickle>=1.2.0 in /usr/local/lib/python3.10/dist-packages (from gymnasium[accept-rom-license,atari]) (3.1.0)\n",
            "Requirement already satisfied: typing-extensions>=4.3.0 in /usr/local/lib/python3.10/dist-packages (from gymnasium[accept-rom-license,atari]) (4.12.2)\n",
            "Requirement already satisfied: farama-notifications>=0.0.1 in /usr/local/lib/python3.10/dist-packages (from gymnasium[accept-rom-license,atari]) (0.0.4)\n",
            "Collecting ale-py>=0.9 (from gymnasium[accept-rom-license,atari])\n",
            "  Downloading ale_py-0.10.1-cp310-cp310-manylinux_2_17_x86_64.manylinux2014_x86_64.whl.metadata (7.6 kB)\n",
            "Downloading ale_py-0.10.1-cp310-cp310-manylinux_2_17_x86_64.manylinux2014_x86_64.whl (2.1 MB)\n",
            "\u001b[2K   \u001b[90m━━━━━━━━━━━━━━━━━━━━━━━━━━━━━━━━━━━━━━━━\u001b[0m \u001b[32m2.1/2.1 MB\u001b[0m \u001b[31m21.0 MB/s\u001b[0m eta \u001b[36m0:00:00\u001b[0m\n",
            "\u001b[?25hInstalling collected packages: ale-py\n",
            "Successfully installed ale-py-0.10.1\n",
            "Reading package lists... Done\n",
            "Building dependency tree... Done\n",
            "Reading state information... Done\n",
            "The following additional packages will be installed:\n",
            "  swig4.0\n",
            "Suggested packages:\n",
            "  swig-doc swig-examples swig4.0-examples swig4.0-doc\n",
            "The following NEW packages will be installed:\n",
            "  swig swig4.0\n",
            "0 upgraded, 2 newly installed, 0 to remove and 49 not upgraded.\n",
            "Need to get 1,116 kB of archives.\n",
            "After this operation, 5,542 kB of additional disk space will be used.\n",
            "Get:1 http://archive.ubuntu.com/ubuntu jammy/universe amd64 swig4.0 amd64 4.0.2-1ubuntu1 [1,110 kB]\n",
            "Get:2 http://archive.ubuntu.com/ubuntu jammy/universe amd64 swig all 4.0.2-1ubuntu1 [5,632 B]\n",
            "Fetched 1,116 kB in 2s (539 kB/s)\n",
            "Selecting previously unselected package swig4.0.\n",
            "(Reading database ... 123623 files and directories currently installed.)\n",
            "Preparing to unpack .../swig4.0_4.0.2-1ubuntu1_amd64.deb ...\n",
            "Unpacking swig4.0 (4.0.2-1ubuntu1) ...\n",
            "Selecting previously unselected package swig.\n",
            "Preparing to unpack .../swig_4.0.2-1ubuntu1_all.deb ...\n",
            "Unpacking swig (4.0.2-1ubuntu1) ...\n",
            "Setting up swig4.0 (4.0.2-1ubuntu1) ...\n",
            "Setting up swig (4.0.2-1ubuntu1) ...\n",
            "Processing triggers for man-db (2.10.2-1) ...\n",
            "Requirement already satisfied: gymnasium[box2d] in /usr/local/lib/python3.10/dist-packages (1.0.0)\n",
            "Requirement already satisfied: numpy>=1.21.0 in /usr/local/lib/python3.10/dist-packages (from gymnasium[box2d]) (1.26.4)\n",
            "Requirement already satisfied: cloudpickle>=1.2.0 in /usr/local/lib/python3.10/dist-packages (from gymnasium[box2d]) (3.1.0)\n",
            "Requirement already satisfied: typing-extensions>=4.3.0 in /usr/local/lib/python3.10/dist-packages (from gymnasium[box2d]) (4.12.2)\n",
            "Requirement already satisfied: farama-notifications>=0.0.1 in /usr/local/lib/python3.10/dist-packages (from gymnasium[box2d]) (0.0.4)\n",
            "Collecting box2d-py==2.3.5 (from gymnasium[box2d])\n",
            "  Downloading box2d-py-2.3.5.tar.gz (374 kB)\n",
            "\u001b[2K     \u001b[90m━━━━━━━━━━━━━━━━━━━━━━━━━━━━━━━━━━━━━━━━\u001b[0m \u001b[32m374.4/374.4 kB\u001b[0m \u001b[31m5.9 MB/s\u001b[0m eta \u001b[36m0:00:00\u001b[0m\n",
            "\u001b[?25h  Preparing metadata (setup.py) ... \u001b[?25l\u001b[?25hdone\n",
            "Requirement already satisfied: pygame>=2.1.3 in /usr/local/lib/python3.10/dist-packages (from gymnasium[box2d]) (2.6.1)\n",
            "Collecting swig==4.* (from gymnasium[box2d])\n",
            "  Downloading swig-4.2.1.post0-py2.py3-none-manylinux_2_5_x86_64.manylinux1_x86_64.whl.metadata (3.5 kB)\n",
            "Downloading swig-4.2.1.post0-py2.py3-none-manylinux_2_5_x86_64.manylinux1_x86_64.whl (1.8 MB)\n",
            "\u001b[2K   \u001b[90m━━━━━━━━━━━━━━━━━━━━━━━━━━━━━━━━━━━━━━━━\u001b[0m \u001b[32m1.8/1.8 MB\u001b[0m \u001b[31m36.3 MB/s\u001b[0m eta \u001b[36m0:00:00\u001b[0m\n",
            "\u001b[?25hBuilding wheels for collected packages: box2d-py\n",
            "  Building wheel for box2d-py (setup.py) ... \u001b[?25l\u001b[?25hdone\n",
            "  Created wheel for box2d-py: filename=box2d_py-2.3.5-cp310-cp310-linux_x86_64.whl size=2349113 sha256=959c5bdaf1c52fe268fbbd8a77fa207b2b3015e20cff10293d133f2aaaa74f4b\n",
            "  Stored in directory: /root/.cache/pip/wheels/db/8f/6a/eaaadf056fba10a98d986f6dce954e6201ba3126926fc5ad9e\n",
            "Successfully built box2d-py\n",
            "Installing collected packages: swig, box2d-py\n",
            "Successfully installed box2d-py-2.3.5 swig-4.2.1.post0\n"
          ]
        }
      ],
      "source": [
        "!pip install gymnasium\n",
        "!pip install \"gymnasium[atari, accept-rom-license]\"\n",
        "!apt-get install -y swig\n",
        "!pip install gymnasium[box2d]"
      ]
    },
    {
      "cell_type": "markdown",
      "metadata": {
        "id": "brqiMN3UW9T9"
      },
      "source": [
        "### Importing the libraries"
      ]
    },
    {
      "cell_type": "code",
      "execution_count": 3,
      "metadata": {
        "id": "mZaKXP_aMl9O"
      },
      "outputs": [],
      "source": [
        "import os\n",
        "import random\n",
        "import numpy as np\n",
        "import torch\n",
        "import torch.nn as nn\n",
        "import torch.optim as optim\n",
        "import torch.nn.functional as F\n",
        "import torch.autograd as autograd\n",
        "from torch.autograd import Variable\n",
        "from collections import deque, namedtuple"
      ]
    },
    {
      "cell_type": "markdown",
      "metadata": {
        "id": "EzlDKXvkXzGI"
      },
      "source": [
        "## Part 1 - Building the AI"
      ]
    },
    {
      "cell_type": "markdown",
      "metadata": {
        "id": "UtG6Zc83YYy3"
      },
      "source": [
        "### Creating the architecture of the Neural Network"
      ]
    },
    {
      "cell_type": "code",
      "source": [
        "class Network(nn.Module):\n",
        "\n",
        "  def __init__(self, state_size, action_size, seed = 42):\n",
        "    super(Network, self).__init__()\n",
        "    self.seed = torch.manual_seed(seed)\n",
        "    self.fc1 = nn.Linear(state_size, 64)\n",
        "    self.fc2 = nn.Linear(64, 64)\n",
        "    self.fc3 = nn.Linear(64, action_size)\n",
        "\n",
        "  def forward(self, state):\n",
        "    x = self.fc1(state)\n",
        "    x = F.relu(x)\n",
        "    x = self.fc2(x)\n",
        "    x = F.relu(x)\n",
        "    return self.fc3(x)"
      ],
      "metadata": {
        "id": "h9oUxasLEJx9"
      },
      "execution_count": 4,
      "outputs": []
    },
    {
      "cell_type": "markdown",
      "metadata": {
        "id": "UxVrBnFWZKb1"
      },
      "source": [
        "## Part 2 - Training the AI"
      ]
    },
    {
      "cell_type": "markdown",
      "metadata": {
        "id": "T364fz9qZb2j"
      },
      "source": [
        "### Setting up the environment"
      ]
    },
    {
      "cell_type": "code",
      "source": [
        "import gymnasium as gym\n",
        "env = gym.make('LunarLander-v3', render_mode=\"human\")\n",
        "state_shape = env.observation_space.shape\n",
        "state_size = env.observation_space.shape[0]\n",
        "number_actions = env.action_space.n\n",
        "print('State shape: ', state_shape)\n",
        "print('State size: ', state_size)\n",
        "print('Number of actions: ', number_actions)"
      ],
      "metadata": {
        "colab": {
          "base_uri": "https://localhost:8080/"
        },
        "id": "NUWiCFWySXIh",
        "outputId": "f7b6e8a7-4643-48de-f3e0-5ec2f82a047c"
      },
      "execution_count": 5,
      "outputs": [
        {
          "output_type": "stream",
          "name": "stdout",
          "text": [
            "State shape:  (8,)\n",
            "State size:  8\n",
            "Number of actions:  4\n"
          ]
        }
      ]
    },
    {
      "cell_type": "markdown",
      "metadata": {
        "id": "c_dZmOIvZgj-"
      },
      "source": [
        "### Initializing the hyperparameters"
      ]
    },
    {
      "cell_type": "code",
      "source": [
        "learning_rate = 5e-4\n",
        "minibatch_size = 100\n",
        "discount_factor = 0.99\n",
        "replay_buffer_size = int(1e5)\n",
        "interpolation_parameter = 1e-3"
      ],
      "metadata": {
        "id": "bNKnUzj1Oqz8"
      },
      "execution_count": 6,
      "outputs": []
    },
    {
      "cell_type": "markdown",
      "metadata": {
        "id": "8hD_Vs-bYnip"
      },
      "source": [
        "### Implementing Experience Replay"
      ]
    },
    {
      "cell_type": "code",
      "source": [
        "class ReplayMemory(object):\n",
        "\n",
        "  def __init__(self, capacity):\n",
        "    self.device = torch.device(\"cuda:0\" if torch.cuda.is_available() else \"cpu\")\n",
        "    self.capacity = capacity\n",
        "    self.memory = []\n",
        "\n",
        "  def push(self, event):\n",
        "    self.memory.append(event)\n",
        "    if len(self.memory) > self.capacity:\n",
        "      del self.memory[0]\n",
        "\n",
        "  def sample(self, batch_size):\n",
        "    experiences = random.sample(self.memory, k = batch_size)\n",
        "    states = torch.from_numpy(np.vstack([e[0] for e in experiences if e is not None])).float().to(self.device)\n",
        "    actions = torch.from_numpy(np.vstack([e[1] for e in experiences if e is not None])).long().to(self.device)\n",
        "    rewards = torch.from_numpy(np.vstack([e[2] for e in experiences if e is not None])).float().to(self.device)\n",
        "    next_states = torch.from_numpy(np.vstack([e[3] for e in experiences if e is not None])).float().to(self.device)\n",
        "    dones = torch.from_numpy(np.vstack([e[4] for e in experiences if e is not None]).astype(np.uint8)).float().to(self.device)\n",
        "    return states, next_states, actions, rewards, dones"
      ],
      "metadata": {
        "id": "QaEChoj_uRoe"
      },
      "execution_count": 7,
      "outputs": []
    },
    {
      "cell_type": "markdown",
      "metadata": {
        "id": "JmEkbFbUY6Jt"
      },
      "source": [
        "### Implementing the DQN class"
      ]
    },
    {
      "cell_type": "code",
      "source": [
        "class Agent():\n",
        "\n",
        "  def __init__(self, state_size, action_size):\n",
        "    self.device = torch.device(\"cuda:0\" if torch.cuda.is_available() else \"cpu\")\n",
        "    self.state_size = state_size\n",
        "    self.action_size = action_size\n",
        "    self.local_qnetwork = Network(state_size, action_size).to(self.device)\n",
        "    self.target_qnetwork = Network(state_size, action_size).to(self.device)\n",
        "    self.optimizer = optim.Adam(self.local_qnetwork.parameters(), lr = learning_rate)\n",
        "    self.memory = ReplayMemory(replay_buffer_size)\n",
        "    self.t_step = 0\n",
        "\n",
        "  def step(self, state, action, reward, next_state, done):\n",
        "    self.memory.push((state, action, reward, next_state, done))\n",
        "    self.t_step = (self.t_step + 1) % 4\n",
        "    if self.t_step == 0:\n",
        "      if len(self.memory.memory) > minibatch_size:\n",
        "        experiences = self.memory.sample(100)\n",
        "        self.learn(experiences, discount_factor)\n",
        "\n",
        "  def act(self, state, epsilon = 0.):\n",
        "    state = torch.from_numpy(state).float().unsqueeze(0).to(self.device)\n",
        "    self.local_qnetwork.eval()\n",
        "    with torch.no_grad():\n",
        "      action_values = self.local_qnetwork(state)\n",
        "    self.local_qnetwork.train()\n",
        "    if random.random() > epsilon:\n",
        "      return np.argmax(action_values.cpu().data.numpy())\n",
        "    else:\n",
        "      return random.choice(np.arange(self.action_size))\n",
        "\n",
        "  def learn(self, experiences, discount_factor):\n",
        "    states, next_states, actions, rewards, dones = experiences\n",
        "    next_q_targets = self.target_qnetwork(next_states).detach().max(1)[0].unsqueeze(1)\n",
        "    q_targets = rewards + discount_factor * next_q_targets * (1 - dones)\n",
        "    q_expected = self.local_qnetwork(states).gather(1, actions)\n",
        "    loss = F.mse_loss(q_expected, q_targets)\n",
        "    self.optimizer.zero_grad()\n",
        "    loss.backward()\n",
        "    self.optimizer.step()\n",
        "    self.soft_update(self.local_qnetwork, self.target_qnetwork, interpolation_parameter)\n",
        "\n",
        "  def soft_update(self, local_model, target_model, interpolation_parameter):\n",
        "    for target_param, local_param in zip(target_model.parameters(), local_model.parameters()):\n",
        "      target_param.data.copy_(interpolation_parameter * local_param.data + (1.0 - interpolation_parameter) * target_param.data)"
      ],
      "metadata": {
        "id": "iokmjTKJ9E3U"
      },
      "execution_count": 8,
      "outputs": []
    },
    {
      "cell_type": "markdown",
      "metadata": {
        "id": "o1tZElccZmf6"
      },
      "source": [
        "### Initializing the DQN agent"
      ]
    },
    {
      "cell_type": "code",
      "source": [
        "agent = Agent(state_size, number_actions)"
      ],
      "metadata": {
        "id": "cGbpJJvLjmIw"
      },
      "execution_count": 9,
      "outputs": []
    },
    {
      "cell_type": "markdown",
      "metadata": {
        "id": "E8v0PtUfaVQp"
      },
      "source": [
        "### Training the DQN agent"
      ]
    },
    {
      "cell_type": "code",
      "source": [
        "number_episodes = 2000\n",
        "maximum_number_timesteps_per_episode = 1000\n",
        "epsilon_starting_value  = 1.0\n",
        "epsilon_ending_value  = 0.01\n",
        "epsilon_decay_value  = 0.995\n",
        "epsilon = epsilon_starting_value\n",
        "scores_on_100_episodes = deque(maxlen = 100)\n",
        "\n",
        "for episode in range(1, number_episodes + 1):\n",
        "  state, _ = env.reset()\n",
        "  score = 0\n",
        "  for t in range(maximum_number_timesteps_per_episode):\n",
        "    action = agent.act(state, epsilon)\n",
        "    next_state, reward, done, _, _ = env.step(action)\n",
        "    agent.step(state, action, reward, next_state, done)\n",
        "    state = next_state\n",
        "    score += reward\n",
        "    if done:\n",
        "      break\n",
        "  scores_on_100_episodes.append(score)\n",
        "  epsilon = max(epsilon_ending_value, epsilon_decay_value * epsilon)\n",
        "  print('\\rEpisode {}\\tAverage Score: {:.2f}'.format(episode, np.mean(scores_on_100_episodes)), end = \"\")\n",
        "  if episode % 100 == 0:\n",
        "    print('\\rEpisode {}\\tAverage Score: {:.2f}'.format(episode, np.mean(scores_on_100_episodes)))\n",
        "  if np.mean(scores_on_100_episodes) >= 200.0:\n",
        "    print('\\nEnvironment solved in {:d} episodes!\\tAverage Score: {:.2f}'.format(episode - 100, np.mean(scores_on_100_episodes)))\n",
        "    torch.save(agent.local_qnetwork.state_dict(), 'checkpoint.pth')\n",
        "    break"
      ],
      "metadata": {
        "colab": {
          "base_uri": "https://localhost:8080/"
        },
        "id": "2ybZW6Im-Bwj",
        "outputId": "71541720-26b0-43ea-a9be-6ec1f062e1cc"
      },
      "execution_count": 11,
      "outputs": [
        {
          "output_type": "stream",
          "name": "stderr",
          "text": [
            "/usr/local/lib/python3.10/dist-packages/ipykernel/ipkernel.py:283: DeprecationWarning: `should_run_async` will not call `transform_cell` automatically in the future. Please pass the result to `transformed_cell` argument and any exception that happen during thetransform in `preprocessing_exc_tuple` in IPython 7.17 and above.\n",
            "  and should_run_async(code)\n"
          ]
        },
        {
          "output_type": "stream",
          "name": "stdout",
          "text": [
            "Episode 100\tAverage Score: -160.13\n",
            "Episode 200\tAverage Score: -108.32\n",
            "Episode 300\tAverage Score: -45.10\n",
            "Episode 400\tAverage Score: -24.35\n",
            "Episode 500\tAverage Score: 21.05\n",
            "Episode 600\tAverage Score: 120.72\n",
            "Episode 658\tAverage Score: 200.28\n",
            "Environment solved in 558 episodes!\tAverage Score: 200.28\n"
          ]
        }
      ]
    },
    {
      "cell_type": "markdown",
      "metadata": {
        "id": "O8CNwdOTcCoP"
      },
      "source": [
        "## Part 3 - Visualizing the results"
      ]
    },
    {
      "cell_type": "code",
      "execution_count": 13,
      "metadata": {
        "id": "cb9nVvU2Okhk",
        "colab": {
          "base_uri": "https://localhost:8080/",
          "height": 458
        },
        "outputId": "817fce1b-66f9-4b0a-84b0-87ef30789477"
      },
      "outputs": [
        {
          "output_type": "stream",
          "name": "stderr",
          "text": [
            "WARNING:imageio_ffmpeg:IMAGEIO FFMPEG_WRITER WARNING: input image is not divisible by macro_block_size=16, resizing from (600, 400) to (608, 400) to ensure video compatibility with most codecs and players. To prevent resizing, make your input image divisible by the macro_block_size or set the macro_block_size to 1 (risking incompatibility).\n"
          ]
        },
        {
          "output_type": "display_data",
          "data": {
            "text/plain": [
              "<IPython.core.display.HTML object>"
            ],
            "text/html": [
              "<video alt=\"test\" autoplay\n",
              "                loop controls style=\"height: 400px;\">\n",
              "                <source src=\"data:video/mp4;base64,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\" type=\"video/mp4\" />\n",
              "             </video>"
            ]
          },
          "metadata": {}
        }
      ],
      "source": [
        "import glob\n",
        "import io\n",
        "import base64\n",
        "import imageio\n",
        "from IPython.display import HTML, display\n",
        "from gym.wrappers.monitoring.video_recorder import VideoRecorder\n",
        "\n",
        "def show_video_of_model(agent, env_name):\n",
        "    env = gym.make(env_name, render_mode='rgb_array')\n",
        "    state, _ = env.reset()\n",
        "    done = False\n",
        "    frames = []\n",
        "    while not done:\n",
        "        frame = env.render()\n",
        "        frames.append(frame)\n",
        "        action = agent.act(state)\n",
        "        state, reward, done, _, _ = env.step(action.item())\n",
        "    env.close()\n",
        "    imageio.mimsave('video.mp4', frames, fps=30)\n",
        "\n",
        "show_video_of_model(agent, 'LunarLander-v3')\n",
        "\n",
        "def show_video():\n",
        "    mp4list = glob.glob('*.mp4')\n",
        "    if len(mp4list) > 0:\n",
        "        mp4 = mp4list[0]\n",
        "        video = io.open(mp4, 'r+b').read()\n",
        "        encoded = base64.b64encode(video)\n",
        "        display(HTML(data='''<video alt=\"test\" autoplay\n",
        "                loop controls style=\"height: 400px;\">\n",
        "                <source src=\"data:video/mp4;base64,{0}\" type=\"video/mp4\" />\n",
        "             </video>'''.format(encoded.decode('ascii'))))\n",
        "    else:\n",
        "        print(\"Could not find video\")\n",
        "\n",
        "show_video()"
      ]
    }
  ],
  "metadata": {
    "colab": {
      "provenance": [],
      "include_colab_link": true
    },
    "kernelspec": {
      "display_name": "Python 3",
      "name": "python3"
    },
    "language_info": {
      "name": "python"
    }
  },
  "nbformat": 4,
  "nbformat_minor": 0
}